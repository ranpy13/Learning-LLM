{
 "cells": [
  {
   "cell_type": "code",
   "execution_count": 1,
   "id": "18d54544-92d0-412c-8e28-f9083b2bab6f",
   "metadata": {},
   "outputs": [
    {
     "name": "stdout",
     "output_type": "stream",
     "text": [
      "[OK] Your Python version is 3.10.12\n"
     ]
    }
   ],
   "source": [
    "from python_environment_check import check_packages, get_requirements_dict"
   ]
  },
  {
   "cell_type": "code",
   "execution_count": 2,
   "id": "60e03297-4337-4181-b8eb-f483f406954a",
   "metadata": {},
   "outputs": [],
   "source": [
    "d = get_requirements_dict()"
   ]
  },
  {
   "cell_type": "code",
   "execution_count": 3,
   "id": "d982ddf9-c167-4ed2-9fce-e271f2b1e1de",
   "metadata": {},
   "outputs": [
    {
     "name": "stdout",
     "output_type": "stream",
     "text": [
      "[OK] numpy 1.25.1\n",
      "[OK] scipy 1.11.1\n",
      "[OK] pandas 2.0.3\n",
      "[OK] matplotlib 3.7.2\n",
      "[OK] jupyterlab 4.0.3\n",
      "[OK] ipywidgets 8.0.7\n",
      "[OK] watermark 2.4.3\n",
      "[OK] torch 2.0.1\n"
     ]
    }
   ],
   "source": [
    "check_packages(d)"
   ]
  },
  {
   "cell_type": "markdown",
   "id": "e0bdd547-333c-42a9-92f3-4e552f206cf3",
   "metadata": {},
   "source": [
    "Same checks as above but using watermark:"
   ]
  },
  {
   "cell_type": "code",
   "execution_count": 4,
   "id": "9d696044-9272-4b96-8305-34602807bb94",
   "metadata": {},
   "outputs": [],
   "source": [
    "%load_ext watermark"
   ]
  },
  {
   "cell_type": "code",
   "execution_count": 5,
   "id": "ce321731-a15a-4579-b33b-035730371eb3",
   "metadata": {},
   "outputs": [
    {
     "name": "stdout",
     "output_type": "stream",
     "text": [
      "numpy     : 1.25.1\n",
      "scipy     : 1.11.1\n",
      "pandas    : 2.0.3\n",
      "matplotlib: 3.7.2\n",
      "sklearn   : 1.3.0\n",
      "watermark : 2.4.3\n",
      "torch     : 2.0.1\n",
      "\n",
      "conda environment: LLMs\n",
      "\n"
     ]
    }
   ],
   "source": [
    "%watermark --conda -p numpy,scipy,pandas,matplotlib,sklearn,watermark,torch"
   ]
  }
 ],
 "metadata": {
  "kernelspec": {
   "display_name": "Python 3 (ipykernel)",
   "language": "python",
   "name": "python3"
  },
  "language_info": {
   "codemirror_mode": {
    "name": "ipython",
    "version": 3
   },
   "file_extension": ".py",
   "mimetype": "text/x-python",
   "name": "python",
   "nbconvert_exporter": "python",
   "pygments_lexer": "ipython3",
   "version": "3.10.12"
  }
 },
 "nbformat": 4,
 "nbformat_minor": 5
}
