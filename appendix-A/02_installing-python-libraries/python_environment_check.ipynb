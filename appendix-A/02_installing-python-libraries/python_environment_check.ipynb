{
 "cells": [
  {
   "cell_type": "code",
   "execution_count": 1,
   "id": "67f6f7ed-b67d-465b-bf6f-a99b0d996930",
   "metadata": {},
   "outputs": [
    {
     "name": "stdout",
     "output_type": "stream",
     "text": [
      "[OK] Your Python version is 3.11.4\n",
      "[OK] numpy 1.25.2\n",
      "[OK] scipy 1.11.1\n",
      "[OK] pandas 2.0.3\n",
      "[OK] matplotlib 3.7.2\n",
      "[OK] jupyterlab 4.0.4\n",
      "[OK] watermark 2.4.3\n",
      "[OK] torch 2.0.1\n",
      "[OK] tiktoken 0.5.1\n"
     ]
    }
   ],
   "source": [
    "from python_environment_check import check_packages, get_requirements_dict\n",
    "\n",
    "d = get_requirements_dict()\n",
    "check_packages(d)"
   ]
  },
  {
   "cell_type": "code",
   "execution_count": null,
   "id": "d5ca05fc-98e0-4bba-a95e-350e1764a12c",
   "metadata": {},
   "outputs": [],
   "source": []
  }
 ],
 "metadata": {
  "kernelspec": {
   "display_name": "Python 3 (ipykernel)",
   "language": "python",
   "name": "python3"
  },
  "language_info": {
   "codemirror_mode": {
    "name": "ipython",
    "version": 3
   },
   "file_extension": ".py",
   "mimetype": "text/x-python",
   "name": "python",
   "nbconvert_exporter": "python",
   "pygments_lexer": "ipython3",
   "version": "3.11.4"
  }
 },
 "nbformat": 4,
 "nbformat_minor": 5
}
